{
  "nbformat": 4,
  "nbformat_minor": 0,
  "metadata": {
    "colab": {
      "name": "RecSys_ml1M_template.ipynb",
      "private_outputs": true,
      "provenance": [],
      "collapsed_sections": []
    },
    "kernelspec": {
      "name": "python3",
      "display_name": "Python 3"
    },
    "language_info": {
      "name": "python"
    }
  },
  "cells": [
    {
      "cell_type": "markdown",
      "metadata": {
        "id": "HqslkUeyEJFg"
      },
      "source": [
        "# Recommender Systems tutorial"
      ]
    },
    {
      "cell_type": "markdown",
      "metadata": {
        "id": "O7gLdUS6b2EG"
      },
      "source": [
        "### Imports"
      ]
    },
    {
      "cell_type": "code",
      "metadata": {
        "execution": {
          "iopub.execute_input": "2020-11-18T13:29:22.903227Z",
          "iopub.status.busy": "2020-11-18T13:29:22.902532Z",
          "iopub.status.idle": "2020-11-18T13:29:29.268249Z",
          "shell.execute_reply": "2020-11-18T13:29:29.267601Z"
        },
        "id": "3oCS94Z83Jo2"
      },
      "source": [
        "import abc\n",
        "import os\n",
        "from zipfile import ZipFile\n",
        "from pathlib import Path\n",
        "import numpy as np\n",
        "from scipy.sparse import coo_matrix\n",
        "from sklearn.model_selection import train_test_split\n",
        "import pandas as pd\n",
        "import tensorflow as tf\n",
        "import matplotlib.pyplot as plt"
      ],
      "execution_count": null,
      "outputs": []
    },
    {
      "cell_type": "code",
      "metadata": {
        "id": "rOKG7heSh63S"
      },
      "source": [
        "import requests\n",
        "requests.packages.urllib3.disable_warnings()\n",
        "import ssl\n",
        "\n",
        "try:\n",
        "    _create_unverified_https_context = ssl._create_unverified_context\n",
        "except AttributeError:\n",
        "    # Legacy Python that doesn't verify HTTPS certificates by default\n",
        "    pass\n",
        "else:\n",
        "    # Handle target environment that doesn't support HTTPS verification\n",
        "    ssl._create_default_https_context = _create_unverified_https_context"
      ],
      "execution_count": null,
      "outputs": []
    },
    {
      "cell_type": "code",
      "metadata": {
        "id": "rqYVO7uI--KE"
      },
      "source": [
        "pd.set_option('display.max_columns', None)"
      ],
      "execution_count": null,
      "outputs": []
    },
    {
      "cell_type": "markdown",
      "metadata": {
        "id": "CcIob6rYqien"
      },
      "source": [
        "# Introduction\n"
      ]
    },
    {
      "cell_type": "markdown",
      "metadata": {
        "id": "bkLIJV0RhRIb"
      },
      "source": [
        "_\"Recommender Systems (RS) are software tools and algorithms that suggest items that might be of interest to the users\"_\n",
        "\n",
        "![](https://miro.medium.com/proxy/1*UEIb9b7VT0u5NMBeZajxjg.png)\n",
        "<sub>  [Fig 1. Item-item collaborative filtering](https://www.google.com/patents/US7113917)<sub>\n",
        "\n",
        "![](https://miro.medium.com/max/3200/1*dMR3xmufnmKiw4crlisQUA.png)\n",
        "<sub> Fig 2. [Netflix](https://www.netflixprize.com/). Everything is a recommendation! <sub>\n"
      ]
    },
    {
      "cell_type": "markdown",
      "metadata": {
        "id": "CTzlXE2sIwtR"
      },
      "source": [
        "Today, RS are an essential part of our daily life. Recommender Systems help us find effectively our favorite items to purchase, our friends on social networks, or our favorite movies to watch. In the so called _Zettabyte Era_ -- where we are surrounded by a massive volume of information--, a tool like RS able to deal with the problem of Information Overload seems to be mandatory.\n",
        "\n",
        "Moreover, most giant companies like Google, Facebook, Amazon, Netflix or Spotify make use of RS in a wide range of applications,\n",
        "including e-commerce, news or healthcare, with good reported revenues:\n"
      ]
    },
    {
      "cell_type": "markdown",
      "metadata": {
        "id": "Rj5vslrS7rMv"
      },
      "source": [
        "**Business value of recommenders**\n",
        "\n",
        "_Netflix_\n",
        "- “75% of what people watch is from some sort of recommendation”\n",
        "- “the recommendations led to a measurable increase in user engagement”\n",
        "- “the personalization and recommendation service helped to decrease customer \n",
        "churn by several percentage points over the years “\n",
        "- “we estimate the business value of recommendation and personalization \n",
        "as more than 1 billion US dollar per year”\n",
        "\n",
        "_Youtube_\n",
        "- “60% of the clicks on the home screen are on the recommendations”\n",
        "\n",
        "_Amazon_ \n",
        "- “About 35% of the sales originate from cross-sales (recommendation)” (2006)\n",
        "\n",
        "_Google News_\n",
        "- “Recommendations generates 38% more clickthrough”\n"
      ]
    },
    {
      "cell_type": "markdown",
      "metadata": {
        "id": "gH1VNFY67q1z"
      },
      "source": [
        "**Collaborative Filtering.** A recommender system seeks to predict the \"rating\" or \"preference\" a user would give to an item. \n",
        "Among the numerous techniques that have been proposed to tackle the recommendation problem, the so called *collaborative filtering* (CF) algorithms seem to be one of the most succesful. \n",
        "\n",
        "CF is a method of making automatic predictions (filtering) about the interests of a user by collecting preferences or taste information from many users (collaborating). The underlying assumption of the collaborative filtering approach is that if a person A has the same opinion as a person B on an issue, A is more likely to have B's opinion on a different issue X than to have the opinion on X of a person chosen randomly. \n",
        "\n",
        "<img src=\"https://courses.edx.org/c4x/BerkeleyX/CS100.1x/asset/Collaborative_filtering.gif\" alt=\"collaborative filtering\" style=\"float: right; width: 300px\"/>\n",
        "\n",
        "<sub> Fig 3. Example of user's preference prediction using collaborative filtering <sub>\n",
        "\n",
        "\n"
      ]
    },
    {
      "cell_type": "markdown",
      "metadata": {
        "id": "9rf9AOnKy2LZ"
      },
      "source": [
        "In this notebook, we will implement two well known collaborative filtering based methods: on one hand, a standard matrix factorization technique; on the other, AutoRec, a neural network based recommender. \n",
        "\n",
        "Simulations will be conducted on the _Movielens dataset_. \n",
        "\n",
        "Models will be implemented in TensorFlow and keras."
      ]
    },
    {
      "cell_type": "markdown",
      "metadata": {
        "id": "OkgpxarvGu4A"
      },
      "source": [
        "<a name=\"outline\"></a>\n",
        "<a id='outline'></a>\n",
        "## Outline\n",
        "#### 1. [Movielens](#ml)\n",
        "#### 2. [Matrix Factorization](#mf)\n",
        "#### 2. [AutoRec](#autorec)\n"
      ]
    },
    {
      "cell_type": "markdown",
      "metadata": {
        "id": "g7y_lZpP6DTu"
      },
      "source": [
        "***\n",
        "<a name=\"ml\"></a>\n",
        "<a id='ml'></a>\n",
        "## [1. Movielens](#outline)"
      ]
    },
    {
      "cell_type": "markdown",
      "metadata": {
        "id": "xmYmqATHGu4I"
      },
      "source": [
        "MovieLens dataset consists of:\n",
        "* 1000209 ratings (1-5) from 6040 users on 3900 movies. \n",
        "* Each user has rated at least 20 movies. \n",
        "* Simple demographic info for the users (age, gender, occupation, zip)\n",
        "\n",
        "The data was collected through the [MovieLens](https://grouplens.org/datasets/movielens/) [website](https://movielens.org). This data has been cleaned up - users\n",
        "who had less than 20 ratings or did not have complete demographic\n",
        "information were removed from this data set.\n",
        "\n",
        "You can download the dataset [here](https://files.grouplens.org/datasets/movielens/ml-1m.zip)."
      ]
    },
    {
      "cell_type": "code",
      "metadata": {
        "id": "9nYq6SqT-N6J"
      },
      "source": [
        "# Download the actual data from http://files.grouplens.org/datasets/movielens/ml-1m.zip\n",
        "\n",
        "movielens_data_file_url = \\\n",
        "  \"https://files.grouplens.org/datasets/movielens/ml-1m.zip\"\n",
        "\n",
        "\n",
        "movielens_zipped_file = tf.keras.utils.get_file(\"ml-1m.zip\", \n",
        "                                                movielens_data_file_url, \n",
        "                                                extract=False)\n",
        "\n",
        "keras_datasets_path = Path(movielens_zipped_file).parents[0]\n",
        "movielens_dir = keras_datasets_path / \"ml-1m\"\n",
        "\n",
        "# Only extract the data the first time the script is run.\n",
        "if not movielens_dir.exists():\n",
        "    with ZipFile(movielens_zipped_file, \"r\") as zip:\n",
        "        # Extract files\n",
        "        print(\"Extracting all the files now...\")\n",
        "        zip.extractall(path=keras_datasets_path)\n",
        "        print(\"Done!\")"
      ],
      "execution_count": null,
      "outputs": []
    },
    {
      "cell_type": "markdown",
      "metadata": {
        "id": "h-6BIY4S5YRB"
      },
      "source": [
        "Take a look at the readme file to get a clearer idea about the information available in the tar file:"
      ]
    },
    {
      "cell_type": "code",
      "metadata": {
        "id": "iQUthunyGu4I"
      },
      "source": [
        "# take a look at the readme file\n",
        "\n",
        "# TODO"
      ],
      "execution_count": null,
      "outputs": []
    },
    {
      "cell_type": "markdown",
      "metadata": {
        "id": "0rIrPipH53Ip"
      },
      "source": [
        "In order to learn the data structure and get familiar with the data, let us compute the most rated movies (what movies are popular in the dataset?)"
      ]
    },
    {
      "cell_type": "code",
      "metadata": {
        "id": "BgEDmUQJGu4I"
      },
      "source": [
        "# read data\n",
        "\n",
        "# TODO\n",
        "\n",
        "print('There are %s users, %s itmes and %s pairs in the dataset' \\\n",
        "      %(df.user_id.unique().shape[0], df.item_id.unique().shape[0], df.shape[0]))\n"
      ],
      "execution_count": null,
      "outputs": []
    },
    {
      "cell_type": "markdown",
      "metadata": {
        "id": "EplsUY28Ju67"
      },
      "source": [
        "The correspondance between titles and ids is stored in the u.item file"
      ]
    },
    {
      "cell_type": "code",
      "metadata": {
        "id": "ILNj3UW-JvFB"
      },
      "source": [
        "# TODO"
      ],
      "execution_count": null,
      "outputs": []
    },
    {
      "cell_type": "code",
      "metadata": {
        "id": "I4bRum6nJ3N_"
      },
      "source": [
        "# TODO"
      ],
      "execution_count": null,
      "outputs": []
    },
    {
      "cell_type": "code",
      "metadata": {
        "id": "T0xo45escIrG"
      },
      "source": [
        "# check uniques\n",
        "\n",
        "len(df_item_info), len(df_item_info.item_id.unique()), len(df_item_info.movie_title.unique())"
      ],
      "execution_count": null,
      "outputs": []
    },
    {
      "cell_type": "code",
      "metadata": {
        "id": "VQDLlTTXGu4I"
      },
      "source": [
        "# get most rated movies\n",
        "\n",
        "#TODO"
      ],
      "execution_count": null,
      "outputs": []
    },
    {
      "cell_type": "code",
      "metadata": {
        "id": "xsnXSFP5LOBN"
      },
      "source": [
        "# translate movie_id\n",
        "\n",
        "#TODO"
      ],
      "execution_count": null,
      "outputs": []
    },
    {
      "cell_type": "markdown",
      "metadata": {
        "id": "42tpWmlC7-CT"
      },
      "source": [
        "Now that we are familiar with the data structure, let's prepare training and test data for subsequent analysis:"
      ]
    },
    {
      "cell_type": "code",
      "metadata": {
        "id": "KH57wbmW5-ot"
      },
      "source": [
        "# train data\n",
        "train, test = train_test_split(df, test_size=0.2)\n",
        "\n",
        "# users, items and pairs\n",
        "df_users = train.drop_duplicates(subset=['user_id'])[['user_id']]\n",
        "df_users['user'] = np.arange(len(df_users))\n",
        "df_items = train.drop_duplicates(subset=['item_id'])[['item_id']]\n",
        "df_items['item'] = np.arange(len(df_items))\n",
        "num_users = len(df_users)\n",
        "num_items = len(df_items)\n",
        "num_pairs = train.shape[0]\n",
        "print('There are %s users, %s items and %s pairs in the train set' \\\n",
        "      %(num_users, num_items, num_pairs))\n",
        "\n",
        "# new ids\n",
        "train = pd.merge(train, df_users, on=['user_id'])\n",
        "train = pd.merge(train, df_items, on=['item_id'])\n",
        "\n",
        "# get x, y values\n",
        "x_train, y_train = train[['user', 'item']], train[['rating']].astype(float)"
      ],
      "execution_count": null,
      "outputs": []
    },
    {
      "cell_type": "code",
      "metadata": {
        "id": "8lYa9LfLe_MF"
      },
      "source": [
        "# test data\n",
        "test = pd.merge(test, df_users, on=['user_id'], how='inner')\n",
        "test = pd.merge(test, df_items, on=['item_id'], how='inner')\n",
        "print('There are %s users, %s items and %s pairs in the train set' \\\n",
        "      %(len(test['user_id'].unique()), len(test['item_id'].unique()), test.shape[0]))\n",
        "\n",
        "# get x, y values\n",
        "x_test, y_test = test[['user', 'item']], test[['rating']].astype(float)"
      ],
      "execution_count": null,
      "outputs": []
    },
    {
      "cell_type": "markdown",
      "metadata": {
        "id": "TT7fO5R75-5w"
      },
      "source": [
        "***\n",
        "<a name=\"mf\"></a>\n",
        "<a id='mf'></a>\n",
        "## [2. Matrix Factorization](#outline)"
      ]
    },
    {
      "cell_type": "markdown",
      "metadata": {
        "id": "qidWpT0AN93L"
      },
      "source": [
        "Matrix factorization is a class of collaborative filtering models\n",
        "which factorizes\n",
        "the user-item interaction (or rating) matrix into the product of two lower-rank matrices (also called latent factors):\n",
        "\n",
        "## $$r_{i,j} \\approx {\\bf U}_i\\cdot{\\bf P}_j^T$$\n",
        "\n",
        "![](https://static.commonlounge.com/fp/600w/MybvxbBIIfovyMO1VlNoi2eUu1520501686_kc)\n",
        "\n",
        "<sub> Fig 4. Matrix Factorization <sub>\n"
      ]
    },
    {
      "cell_type": "markdown",
      "metadata": {
        "id": "NBfP7mDLKCO1"
      },
      "source": [
        "We train the matrix factorization model by minimizing the mean squared error between predicted rating scores and real rating scores.  The objective function is defined as follows:\n",
        "\n",
        "$$\n",
        "\\underset{\\mathbf{P}, \\mathbf{Q}, b}{\\mathrm{argmin}} \\sum_{(u, i) \\in \\mathcal{K}} \\| \\mathbf{r}_{ui} -\n",
        "\\hat{\\mathbf{r}}_{ij} \\|^2 + \\lambda (\\| \\mathbf{U} \\|^2 + \\| \\mathbf{P}\n",
        "\\|^2 + b_i^2 + b_j^2 )\n",
        "$$\n",
        "\n",
        "where \n",
        "\n",
        "$$\n",
        "\\hat{\\mathbf{r}}_{ij} = \\mathbf{u}_i\\mathbf{p}^\\top_j + b_i + b_j\n",
        "$$\n",
        "\n",
        "is the predicted rating and\n",
        "$\\lambda$ denotes the regularization rate (used to avoid over-fitting).\n",
        "\n",
        "The $(i, j)$ pairs for which $\\mathbf{r}_{ij}$ is known are stored in the set\n",
        "$\\mathcal{K}$. \n",
        "\n",
        "The model parameters can be learned with an optimization algorithm, such as Stochastic Gradient Descent or Adam."
      ]
    },
    {
      "cell_type": "markdown",
      "metadata": {
        "id": "PN5tSxN8KBrI"
      },
      "source": [
        "Note how in the process of recovering non null values of $\\mathbf{r}_{ij}$, we fill the missing entries of the input (ie, we densify the rating matrix!)"
      ]
    },
    {
      "cell_type": "markdown",
      "metadata": {
        "id": "4hww5LmZMlE1"
      },
      "source": [
        "The steps to code the matrix factorization model are as follows:\n",
        "\n",
        "- Map user ID to a \"user vector\" via an embedding matrix\n",
        "- Map movie ID to a \"movie vector\" via an embedding matrix\n",
        "- Compute the dot product between the user vector and movie vector, to obtain the a match score between the user and the movie (predicted rating).\n",
        "Train the embeddings via gradient descent using all known user-movie pairs."
      ]
    },
    {
      "cell_type": "markdown",
      "metadata": {
        "id": "c_j_VwkFMz8Q"
      },
      "source": [
        "Time to code :)"
      ]
    },
    {
      "cell_type": "code",
      "metadata": {
        "id": "ZdEP-ifO5-k7"
      },
      "source": [
        "class MatrixFactorization(tf.keras.Model):\n",
        "    def __init__(self, num_users, num_items, embedding_size, **kwargs):\n",
        "        super(MatrixFactorization, self).__init__(**kwargs)\n",
        "        # TODO\n",
        "\n",
        "    def call(self, inputs):\n",
        "        pass"
      ],
      "execution_count": null,
      "outputs": []
    },
    {
      "cell_type": "code",
      "metadata": {
        "id": "NAYjuDDKZVlQ"
      },
      "source": [
        "# Params\n",
        "\n",
        "EMBEDDING_SIZE = 10"
      ],
      "execution_count": null,
      "outputs": []
    },
    {
      "cell_type": "code",
      "metadata": {
        "id": "hGIEIHo_ZKSa"
      },
      "source": [
        "# TODO"
      ],
      "execution_count": null,
      "outputs": []
    },
    {
      "cell_type": "code",
      "metadata": {
        "id": "WX8HyXyH-iL8"
      },
      "source": [
        "# TODO"
      ],
      "execution_count": null,
      "outputs": []
    },
    {
      "cell_type": "code",
      "metadata": {
        "id": "jlNS9d2w-i_j"
      },
      "source": [
        "# Plot training loss\n",
        "\n",
        "plt.plot(history.history[\"loss\"])\n",
        "plt.plot(history.history[\"val_loss\"], '--')\n",
        "plt.title(\"model loss\")\n",
        "plt.ylabel(\"loss\")\n",
        "plt.xlabel(\"epoch\")\n",
        "plt.legend([\"train\", \"test\"], loc=\"upper left\")\n",
        "plt.grid()\n",
        "plt.show()"
      ],
      "execution_count": null,
      "outputs": []
    },
    {
      "cell_type": "code",
      "metadata": {
        "id": "ng0kCuhw-yU8"
      },
      "source": [
        "def recommend(user_id, train, test, df_items, df_aux):\n",
        "  movies_watched_by_user = train[train.user == user_id]\n",
        "\n",
        "  df_items_aux = df_items[['item']]\n",
        "  df_items_aux['user'] = user_id\n",
        "  movies_not_watched = pd.merge(df_items_aux, movies_watched_by_user, on=['user', 'item'], how='left')\n",
        "  movies_not_watched = movies_not_watched[movies_not_watched.rating.isnull()][['user', 'item']]\n",
        "\n",
        "  ratings = model.predict(movies_not_watched).flatten()\n",
        "  movies_not_watched['predicted_rating'] = ratings\n",
        "  top_ratings_items = movies_not_watched.sort_values(by='predicted_rating', ascending=False)\n",
        "\n",
        "  print(\"Showing recommendations for user: {}\".format(user_id))\n",
        "  print(\"====\" * 9)\n",
        "  print(\"Movies with high ratings from user\")\n",
        "  print(\"----\" * 8)\n",
        "  \n",
        "  movies_watched_by_user = pd.merge(movies_watched_by_user, df_aux, on=['item_id'])\n",
        "  top_movies_user = movies_watched_by_user.sort_values(by='rating', ascending=False)[['user', 'item', 'rating', 'movie_title']]\n",
        "  print(top_movies_user.head(20))\n",
        "\n",
        "  print(\"====\" * 9)\n",
        "  print(\"Ratings of movies watched in test\")\n",
        "  print(\"----\" * 8)\n",
        "  movies_watched_by_user_test = test[test.user == user_id]\n",
        "  movies_watched_by_user_test = pd.merge(movies_watched_by_user_test, df_aux, on=['item_id'])\n",
        "  movies_watched_by_user_test = pd.merge(movies_watched_by_user_test, movies_not_watched, on=['user', 'item'])\n",
        "  movies_user_test = movies_watched_by_user_test.sort_values(by='rating', ascending=False)[['user', 'item', 'rating', 'predicted_rating', 'movie_title']]\n",
        "  print(movies_user_test.head(20))\n",
        "\n",
        "  print(\"----\" * 8)\n",
        "  print(\"Top 10 movie recommendations\")\n",
        "  print(\"----\" * 8)\n",
        "  top_movies_recommended = pd.merge(top_ratings_items, df_items, on=['item'])\n",
        "  top_movies_recommended = pd.merge(top_movies_recommended, df_aux, on=['item_id'])\n",
        "  print(top_movies_recommended[['item', 'predicted_rating', 'movie_title']].head(20))\n"
      ],
      "execution_count": null,
      "outputs": []
    },
    {
      "cell_type": "code",
      "metadata": {
        "id": "mR0nuokE-ji5"
      },
      "source": [
        "#Show top 10 movie recommendations to a user\n",
        "\n",
        "# TODO"
      ],
      "execution_count": null,
      "outputs": []
    },
    {
      "cell_type": "markdown",
      "metadata": {
        "id": "HQt8XWXyRhwe"
      },
      "source": [
        "__Extension__. + Contextual information\n",
        "![](https://1.bp.blogspot.com/-ww8cKT3nIb8/X2pdWAWWNmI/AAAAAAAADl8/pkeFRxizkXYbDGbOcaAnZkorjEuqtrabgCLcBGAsYHQ/s0/TF%2BRecommenders%2B06.gif)"
      ]
    },
    {
      "cell_type": "markdown",
      "metadata": {
        "id": "gFa7bKeM6Ow0"
      },
      "source": [
        "***\n",
        "<a name=\"autorec\"></a>\n",
        "<a id='autorec'></a>\n",
        "## [3. AutoRec](#outline)"
      ]
    },
    {
      "cell_type": "markdown",
      "metadata": {
        "id": "3cBMVUmtZhve"
      },
      "source": [
        "One of the majors drawbacks of the previous model is its lack of nonlinearity. This fact prevents matrix factorization to identify complex\n",
        "and intricate relationships between users and items.\n",
        "\n",
        "In this section,\n",
        "we introduce a nonlinear neural network collaborative filtering model: AutoRec."
      ]
    },
    {
      "cell_type": "markdown",
      "metadata": {
        "id": "5IkqXOdNAEL-"
      },
      "source": [
        "In a nutshell, [AutoRec](https://users.cecs.anu.edu.au/~akmenon/papers/autorec/autorec-paper.pdf) is an autoencoder-based architecture. As such, AutoRec structure consists of an input layer, a hidden layer, and a reconstruction (output) layer. Hidden layer codes the inputs into a low dimensional representation. However and in constrast with traditional autoencoders, AutoRec focuses not only in the internal representation but also in the reconstruction step: it is during the reconstruction when missing entries of the rating matrix are filled."
      ]
    },
    {
      "cell_type": "markdown",
      "metadata": {
        "id": "DiPhW274BGMT"
      },
      "source": [
        "![](data:image/png;base64,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)\n",
        "\n",
        "<sub>Figure 1: Item-based AutoRec model <sub>"
      ]
    },
    {
      "cell_type": "markdown",
      "metadata": {
        "id": "MlSbblGyDR0W"
      },
      "source": [
        "Let $r_{:,i}$ denote the i th column of the rating matrix, where unknown ratings are set to zeros by default. \n",
        "\n",
        "The neural architecture is defined as:\n",
        "\n",
        "$$h(r_{:,i}) = f(W · g(V r_{:,i} + \\mu) + b)$$\n",
        "\n",
        "where $f(·)$ and $g(·)$ represent activation functions, W and V are weight matrices, $\\mu$ and b are biases. $h(r_{:,i})$ is the reconstruction of the i\n",
        "th column of the rating matrix."
      ]
    },
    {
      "cell_type": "markdown",
      "metadata": {
        "id": "ogaytutLDfgJ"
      },
      "source": [
        "The following objective function aims to minimize the reconstruction error:\n",
        "\n",
        "$$\n",
        "\\underset{\\mathbf{W},\\mathbf{V},\\mu, b}{\\mathrm{argmin}} \\sum_{i=1}^M{\\parallel \\mathbf{r}_{:,i} - h(\\mathbf{r}_{:, i})\\parallel_{\\mathcal{O}}^2} +\\lambda(\\| \\mathbf{W} \\|_F^2 + \\| \\mathbf{V}\\|_F^2)\n",
        "$$\n",
        "\n",
        "where  $\\| \\cdot \\|_{\\mathcal{O}}$  means only the contribution of observed ratings are considered, that is, only weights\n",
        "that are associated with observed inputs are updated during back-propagation"
      ]
    },
    {
      "cell_type": "code",
      "metadata": {
        "id": "DQ2niYqZ5-ec"
      },
      "source": [
        "class AutoRec(tf.keras.Model):\n",
        "  def __init__(self, num_hidden, num_users, dropout=0.05, reg_enc=1e-3, reg_dec=1e-3):\n",
        "    super(AutoRec, self).__init__()\n",
        "    # TODO\n",
        "\n",
        "  def call(self, input, training=None):\n",
        "    pass"
      ],
      "execution_count": null,
      "outputs": []
    },
    {
      "cell_type": "code",
      "metadata": {
        "id": "LDTZHWpSWKOi"
      },
      "source": [
        "# Custom metric\n",
        "\n",
        "def autorec_rmse(y_true, y_pred):\n",
        "  pass"
      ],
      "execution_count": null,
      "outputs": []
    },
    {
      "cell_type": "code",
      "metadata": {
        "id": "-trqsnAdqjKI"
      },
      "source": [
        "# data\n",
        "\n",
        "ae_data_train = train.groupby('user').agg({'item': list, 'rating': list}).reset_index()\n",
        "ae_data_train['input'] = ae_data_train.apply(lambda x: np.squeeze(coo_matrix((x[2], (np.zeros_like(x[1]), x[1])), \n",
        "                                                                  shape=(1, num_items)).toarray()), \n",
        "                                             axis=1)\n",
        "ae_data_train.head()"
      ],
      "execution_count": null,
      "outputs": []
    },
    {
      "cell_type": "code",
      "metadata": {
        "id": "R-iqsFKTkaDr"
      },
      "source": [
        "x_train_autorec = ae_data_train.values[:, 3]\n",
        "x_train_autorec = np.stack(x_train_autorec).astype(float)\n",
        "x_train_autorec"
      ],
      "execution_count": null,
      "outputs": []
    },
    {
      "cell_type": "code",
      "metadata": {
        "id": "v3VLK27d1zyC"
      },
      "source": [
        "# test\n",
        "ae_data_test = test.groupby('user').agg({'item': list, 'rating': list}).reset_index()\n",
        "ae_data_test['input'] = ae_data_test.apply(lambda x: np.squeeze(coo_matrix((x[2], (np.zeros_like(x[1]), x[1])), \n",
        "                                                                shape=(1, num_items)).toarray()), \n",
        "                                           axis=1)\n",
        "\n",
        "ae_data_test_aux = pd.merge(ae_data_train, ae_data_test, on=['user'], how='inner')\n",
        "x_test_autorec = np.stack(ae_data_test_aux.values[:, -1]).astype(float)\n",
        "x_test_autorec"
      ],
      "execution_count": null,
      "outputs": []
    },
    {
      "cell_type": "code",
      "metadata": {
        "id": "QTvTcO2ypbOQ"
      },
      "source": [
        "# params\n",
        "NUM_HIDDEN = 500\n",
        "DROPOUT = 0.5\n",
        "REG_ENC = 5e-4\n",
        "REG_DEC = 5e-4"
      ],
      "execution_count": null,
      "outputs": []
    },
    {
      "cell_type": "code",
      "metadata": {
        "id": "VzfQ425O5-at"
      },
      "source": [
        "# train autorec\n"
      ],
      "execution_count": null,
      "outputs": []
    },
    {
      "cell_type": "code",
      "metadata": {
        "id": "9wfH-DoNk8V1"
      },
      "source": [
        ""
      ],
      "execution_count": null,
      "outputs": []
    },
    {
      "cell_type": "code",
      "metadata": {
        "id": "exFOw7PgqaXk"
      },
      "source": [
        "# Plot training loss\n",
        "\n",
        "plt.plot(history.history[\"loss\"])\n",
        "plt.plot(history.history[\"val_loss\"], '--')\n",
        "plt.title(\"model loss\")\n",
        "plt.ylabel(\"loss\")\n",
        "plt.xlabel(\"epoch\")\n",
        "plt.legend([\"train\", \"test\"], loc=\"upper left\")\n",
        "plt.show()"
      ],
      "execution_count": null,
      "outputs": []
    },
    {
      "cell_type": "code",
      "metadata": {
        "id": "pqUKw9IVxyZS"
      },
      "source": [
        "def recommend_autorec(user_id, train, test, df_items, df_aux, num_items):\n",
        "  movies_watched_by_user = train[train.user == user_id]\n",
        "\n",
        "  df_items_aux = df_items[['item']]\n",
        "  df_items_aux['user'] = user_id\n",
        "  movies_not_watched = pd.merge(df_items_aux, movies_watched_by_user, on=['user', 'item'], how='left')\n",
        "  movies_not_watched = movies_not_watched[movies_not_watched.rating.isnull()][['user', 'item']]\n",
        "  \n",
        "  df_input = movies_watched_by_user.groupby('user').agg({'item': list, 'rating': list}).reset_index()\n",
        "  df_input['input'] = df_input.apply(lambda x: np.squeeze(coo_matrix((x[2], (np.zeros_like(x[1]), x[1])),\n",
        "                                                          shape=(1, num_items)).toarray()), \n",
        "                                     axis=1)\n",
        "  \n",
        "  x = np.stack(df_input.values[:, -1]).astype(float)\n",
        "  ratings = model.predict(x).flatten()\n",
        "  ratings_items = pd.DataFrame({'item': np.arange(num_items), 'predicted_rating': ratings})\n",
        "  ratings_items = pd.merge(ratings_items, movies_not_watched, on=['item'], how='left')\n",
        "  top_ratings_items = ratings_items[ratings_items.user.notnull()] \\\n",
        "    .sort_values(by='predicted_rating', ascending=False)[['item', 'predicted_rating']]\n",
        "  \n",
        "  print(\"Showing recommendations for user: {}\".format(user_id))\n",
        "  print(\"====\" * 9)\n",
        "  print(\"Movies with high ratings from user\")\n",
        "  print(\"----\" * 8)\n",
        "  \n",
        "  movies_watched_by_user = pd.merge(movies_watched_by_user, df_aux, on=['item_id'])\n",
        "  top_movies_user = movies_watched_by_user.sort_values(by='rating', ascending=False)[['user', 'item', 'rating', 'movie_title']]\n",
        "  print(top_movies_user.head(20))\n",
        "\n",
        "  print(\"====\" * 9)\n",
        "  print(\"Ratings of movies seen in test\")\n",
        "  print(\"----\" * 8)\n",
        "  movies_watched_by_user_test = test[test.user == user_id]\n",
        "  movies_watched_by_user_test = pd.merge(movies_watched_by_user_test, df_aux, on=['item_id'])\n",
        "  movies_watched_by_user_test = pd.merge(movies_watched_by_user_test, ratings_items, on=['user', 'item'])\n",
        "  movies_user_test = movies_watched_by_user_test.sort_values(by='rating', ascending=False)[['user', 'item', 'rating', 'predicted_rating', 'movie_title']]\n",
        "  print(movies_user_test.head(20))\n",
        "\n",
        "  print(\"----\" * 8)\n",
        "  print(\"Top 10 movie recommendations\")\n",
        "  print(\"----\" * 8)\n",
        "  top_movies_recommended = pd.merge(top_ratings_items, df_items, on=['item'])\n",
        "  top_movies_recommended = pd.merge(top_movies_recommended, df_aux, on=['item_id'])\n",
        "  print(top_movies_recommended[['item', 'predicted_rating', 'movie_title']].head(10))\n"
      ],
      "execution_count": null,
      "outputs": []
    },
    {
      "cell_type": "code",
      "metadata": {
        "id": "pcZ8vqoLsPJg"
      },
      "source": [
        "#Show top 10 movie recommendations to a user\n",
        "\n"
      ],
      "execution_count": null,
      "outputs": []
    },
    {
      "cell_type": "markdown",
      "metadata": {
        "id": "Xzot70lyG5wa"
      },
      "source": [
        "### References"
      ]
    },
    {
      "cell_type": "markdown",
      "metadata": {
        "id": "v5EJKi47G5mY"
      },
      "source": [
        "1. [Keras collaborative filtering example](https://keras.io/examples/structured_data/collaborative_filtering_movielens/)\n",
        "\n",
        "2. [Tensorflow Recommenders](https://www.tensorflow.org/recommenders?hl=es-419)\n",
        "\n",
        "3. [d2l book](https://d2l.ai/chapter_recommender-systems/index.html)"
      ]
    },
    {
      "cell_type": "code",
      "metadata": {
        "id": "tJrWKSiHAUhu"
      },
      "source": [
        ""
      ],
      "execution_count": null,
      "outputs": []
    }
  ]
}